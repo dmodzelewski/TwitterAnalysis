{
 "cells": [
  {
   "cell_type": "code",
   "execution_count": 1,
   "metadata": {
    "collapsed": true,
    "ExecuteTime": {
     "end_time": "2023-05-31T14:35:34.911787800Z",
     "start_time": "2023-05-31T14:35:27.021304700Z"
    }
   },
   "outputs": [
    {
     "name": "stderr",
     "output_type": "stream",
     "text": [
      "[nltk_data] Downloading package wordnet to\n",
      "[nltk_data]     C:\\Users\\modze\\AppData\\Roaming\\nltk_data...\n",
      "[nltk_data]   Package wordnet is already up-to-date!\n"
     ]
    },
    {
     "data": {
      "text/plain": "True"
     },
     "execution_count": 1,
     "metadata": {},
     "output_type": "execute_result"
    }
   ],
   "source": [
    "from nltk import TweetTokenizer, SnowballStemmer\n",
    "from nltk.corpus import stopwords\n",
    "from pymongo import MongoClient\n",
    "from spellchecker import SpellChecker\n",
    "\n",
    "from gather_data.config import PASS, LOGIN\n",
    "\n",
    "import certifi\n",
    "\n",
    "import emoji\n",
    "import numpy as np\n",
    "import pandas as pd\n",
    "import re\n",
    "import nltk\n",
    "import spacy\n",
    "import string\n",
    "import openpyxl\n",
    "import itertools\n",
    "from sklearn.feature_extraction.text import CountVectorizer\n",
    "from nltk.stem import WordNetLemmatizer\n",
    "\n",
    "nltk.download('wordnet')"
   ]
  },
  {
   "cell_type": "markdown",
   "source": [
    "# Step 0\n",
    "## Organize variables"
   ],
   "metadata": {
    "collapsed": false
   }
  },
  {
   "cell_type": "code",
   "execution_count": 2,
   "outputs": [],
   "source": [
    "ACRONYMS = {\n",
    "    \"cuz\": \"because\",\n",
    "    \"tn\": \"tonight\",\n",
    "    \"dr\": \"doctor\",\n",
    "    \"u\": \"you\",\n",
    "    \"r\": \"are\",\n",
    "    \"ny\": \"new york\",\n",
    "    \"afaik\": \"as far as i know\",\n",
    "    \"bts\": \"behind the scenes\",\n",
    "    \"cba\": \"can't be bothered\",\n",
    "    \"dnd\": \"do not disturb\",\n",
    "    \"eli5\": \"explain like i'm 5\",\n",
    "    \"fomc\": \"federal open market committee\",\n",
    "    \"g2g\": \"got to go\",\n",
    "    \"hmu\": \"hit me up\",\n",
    "    \"kpi\": \"key performance indicator\",\n",
    "    \"nbd\": \"no big deal\",\n",
    "    \"potus\": \"president of the united states\",\n",
    "    \"rip\": \"rest in peace\",\n",
    "    \"tl;dr\": \"too long; didn't read\",\n",
    "    \"atm\": \"at the moment\",\n",
    "    \"imho\": \"in my humble opinion\",\n",
    "    \"ofc\": \"of course\",\n",
    "    \"otw\": \"on the way\",\n",
    "    \"pls\": \"please\",\n",
    "    \"tfw\": \"that feeling when\",\n",
    "    \"ty\": \"thank you\",\n",
    "    \"wth\": \"what the heck\",\n",
    "    \"wysiwyg\": \"what you see is what you get\",\n",
    "    \"yw\": \"you're welcome\",\n",
    "    \"dm\": \"direct message\",\n",
    "    \"rt\": \"retweet\",\n",
    "    \"ct\": \"cuttweet\",\n",
    "    \"lol\": \"laugh out loud\",\n",
    "    \"omg\": \"oh my god\",\n",
    "    \"imo\": \"in my opinion\",\n",
    "    \"brb\": \"be right back\",\n",
    "    \"afk\": \"away from keyboard\",\n",
    "    \"btw\": \"by the way\",\n",
    "    \"rofl\": \"rolling on the floor laughing\",\n",
    "    \"tbh\": \"to be honest\",\n",
    "    \"gtg\": \"got to go\",\n",
    "    \"ily\": \"i love you\",\n",
    "    \"jk\": \"just kidding\",\n",
    "    \"lmao\": \"laughing my ass off\",\n",
    "    \"np\": \"no problem\",\n",
    "    \"omw\": \"on my way\",\n",
    "    \"tgif\": \"thank god it's friday\",\n",
    "    \"wtf\": \"what the fuck\",\n",
    "    \"idk\": \"i don't know\",\n",
    "    \"fyi\": \"for your information\",\n",
    "    \"asap\": \"as soon as possible\",\n",
    "    \"bff\": \"best friends forever\",\n",
    "    \"gg\": \"good game\",\n",
    "    \"hbd\": \"happy birthday\",\n",
    "    \"irl\": \"in real life\",\n",
    "    \"nvm\": \"never mind\",\n",
    "    \"ootd\": \"outfit of the day\",\n",
    "    \"roflmao\": \"rolling on the floor laughing my ass off\",\n",
    "    \"smh\": \"shaking my head\",\n",
    "    \"tbt\": \"throwback thursday\",\n",
    "    \"yolo\": \"you only live once\",\n",
    "    \"ama\": \"ask me anything\",\n",
    "    \"fwiw\": \"for what it's worth\",\n",
    "    \"icymi\": \"in case you missed it\",\n",
    "    \"ootw\": \"outfit of the week\",\n",
    "    \"pos\": \"piece of shit\",\n",
    "    \"rn\": \"right now\",\n",
    "    \"tmi\": \"too much information\",\n",
    "    \"ttyl\": \"talk to you later\",\n",
    "    \"wcw\": \"woman crush wednesday\",\n",
    "    \"wyd\": \"what are you doing\",\n",
    "    \"xoxo\": \"hugs and kisses\",\n",
    "    \"fomo\": \"fear of missing out\",\n",
    "    \"lmk\": \"let me know\",\n",
    "    \"nm\": \"not much\",\n",
    "    \"nsfw\": \"not safe for work\",\n",
    "    \"ootn\": \"outfit of the night\",\n",
    "    \"smdh\": \"shaking my damn head\",\n",
    "    \"til\": \"today i learned\",\n",
    "    \"wdyt\": \"what do you think\",\n",
    "    \"prt\": \"partial retweet\",\n",
    "    \"mt\": \"modified tweet\",\n",
    "    \"cx\": \"correction\",\n",
    "    \"seo\": \"search engine optimization\",\n",
    "    \"sroi\": \"social return on investment\",\n",
    "    \"sn\": \"social network\",\n",
    "    \"yt\": \"youtube\",\n",
    "    \"ugc\": \"user-generated content\",\n",
    "    \"smo\": \"social media optimization\",\n",
    "    \"fb\": \"facebook\",\n",
    "    \"sm\": \"social media\",\n",
    "    \"smm\": \"social media marketing\",\n",
    "    \"ezine\": \"electronic magazine\",\n",
    "    \"bgd\": \"background\",\n",
    "    \"abt\": \"about\",\n",
    "    \"ab\": \"about\",\n",
    "    \"dd\": \"dear daughter\",\n",
    "    \"ayfkmwts\": \"are you f—ing kidding me with this s—?\",\n",
    "    \"br\": \"best regards\",\n",
    "    \"chk\": \"check\",\n",
    "    \"cul8r\": \"see you later\",\n",
    "    \"dp\": \"display picture\",\n",
    "    \"fml\": \"fuck my life\",\n",
    "    \"fubar\": \"fucked up beyond all repair\",\n",
    "    \"bbfn\": \"bye for now\",\n",
    "    \"b4\": \"before\",\n",
    "    \"ds\": \"dear son\",\n",
    "    \"ema\": \"email address\",\n",
    "    \"dyk\": \"do you know\",\n",
    "    \"f2f\": \"face to face\",\n",
    "    \"ftf\": \"face to face\",\n",
    "    \"hagn\": \"have a good night\",\n",
    "    \"df\": \"dear fiancé\",\n",
    "    \"dam\": \"don't annoy me\",\n",
    "    \"ffs\": \"for fuck sake\",\n",
    "    \"em\": \"email\",\n",
    "    \"eml\": \"email\",\n",
    "    \"fotd\": \"find of the day\",\n",
    "    \"ftw\": \"for the win\",\n",
    "    \"hth\": \"hope that helps\",\n",
    "    \"gmafb\": \"give me a f—ing break\",\n",
    "    \"hand\": \"have a nice day\",\n",
    "    \"gtfooh\": \"get the fuck out of here\",\n",
    "    \"gts\": \"guess the song\",\n",
    "    \"hotd\": \"headline of the day\",\n",
    "    \"iirc\": \"if i remember correctly\",\n",
    "    \"kyso\": \"knock your socks off\",\n",
    "    \"kk\": \"ok\",\n",
    "    \"ht\": \"head through\",\n",
    "    \"ic\": \"i see\",\n",
    "    \"lhh\": \"hella hard (a stronger version of lol)\",\n",
    "    \"zomg\": \"omg to the max\",\n",
    "    \"nfw\": \"no f—ing way\",\n",
    "    \"orly\": \"oh, really?\",\n",
    "    \"yoyo\": \"you're on your own\",\n",
    "    \"iwsn\": \"i want sex now\",\n",
    "    \"jv\": \"joint venture\",\n",
    "    \"lo\": \"little one\",\n",
    "    \"jsyk\": \"just so you know\",\n",
    "    \"nsw\": \"not safe work\",\n",
    "    \"mrjn\": \"marijuana\",\n",
    "    \"mirl\": \"meet in real life\",\n",
    "    \"nct\": \"nobody cares, though\",\n",
    "    \"njoy\": \"enjoy\",\n",
    "    \"omfg\": \"oh my f—ing god\",\n",
    "    \"pnp\": \"party and play (drugs and sex)\",\n",
    "    \"qotd\": \"quote of the day\",\n",
    "    \"sfw\": \"safe for work\",\n",
    "    \"oomf\": \"one of my friends/followers\",\n",
    "    \"nts\": \"note to self\",\n",
    "    \"rtfm\": \"read the f—ing manual\",\n",
    "    \"snafu\": \"situation normal, all f—ed up\",\n",
    "    \"rlrt\": \"real-life re-tweet, a close cousin to oh\",\n",
    "    \"stfw\": \"search the f—ing web!\",\n",
    "    \"tftt\": \"thanks for this tweet\",\n",
    "    \"sob\": \"son of a b—-\",\n",
    "    \"tftf\": \"thanks for the follow\",\n",
    "    \"rtq\": \"significant other\",\n",
    "    \"tj\": \"tweetjack, or joining a conversation belatedly to contribute to a tangent\",\n",
    "    \"srs\": \"serious\",\n",
    "    \"stf\": \"shut the f—\",\n",
    "    \"stfu\": \"shut the f— up!\",\n",
    "    \"tl\": \"timeline\",\n",
    "    \"tyia\": \"thank you in advance\",\n",
    "    \"tt\": \"trending topic\",\n",
    "    \"tldr\": \"too long didn’t read\",\n",
    "    \"tmb\": \"tweet me back\",\n",
    "    \"tyvw\": \"thank you very much\",\n",
    "    \"wtv\": \"whatever\",\n",
    "    \"ymmv\": \"your mileage may vary\",\n",
    "    \"ykyat\": \"you know you’re addicted to\",\n",
    "    \"w/e\": \"whatever\",\n",
    "    \"tyt\": \"take your time\",\n",
    "    \"ykwim\": \"you know what i mean\",\n",
    "    \"ygtr\": \"you got that right\",\n",
    "    \"li\": \"linkedin\",\n",
    "    \"ppl\": \"people\",\n",
    "    \"re\": \"reply\",\n",
    "    \"s/o\": \"shout out\",\n",
    "    \"ig\": \"instagram\",\n",
    "    \"cmv\": \"change my view\",\n",
    "    \"fbf\": \"flashback friday\",\n",
    "    \"oc\": \"original content\",\n",
    "    \"wbw\": \"way back wednesday\",\n",
    "    \"eta\": \"estimated time of arrival\",\n",
    "    \"smart\": \"specific, measurable, attainable, relevant, timely\",\n",
    "    \"smp\": \"social media platform\"\n",
    "}\n",
    "STOPWORDS = stopwords.words('english')\n",
    "CLEANING_REGEX = \"[@#]\\w+|https?:\\S+|<\\w+>|\\S+@\\w+.\\w+|[^A-Za-z]\"\n"
   ],
   "metadata": {
    "collapsed": false,
    "ExecuteTime": {
     "end_time": "2023-05-31T14:35:39.004947Z",
     "start_time": "2023-05-31T14:35:38.976640300Z"
    }
   }
  },
  {
   "cell_type": "markdown",
   "source": [
    "# Step 1\n",
    "## Get the data from MongoDB"
   ],
   "metadata": {
    "collapsed": false
   }
  },
  {
   "cell_type": "code",
   "execution_count": 3,
   "outputs": [
    {
     "name": "stdout",
     "output_type": "stream",
     "text": [
      "<class 'pandas.core.frame.DataFrame'>\n",
      "RangeIndex: 1599999 entries, 0 to 1599998\n",
      "Data columns (total 6 columns):\n",
      " #   Column    Non-Null Count    Dtype \n",
      "---  ------    --------------    ----- \n",
      " 0   label     1599999 non-null  int64 \n",
      " 1   time      1599999 non-null  int64 \n",
      " 2   date      1599999 non-null  object\n",
      " 3   query     1599999 non-null  object\n",
      " 4   username  1599999 non-null  object\n",
      " 5   text      1599999 non-null  object\n",
      "dtypes: int64(2), object(4)\n",
      "memory usage: 73.2+ MB\n"
     ]
    }
   ],
   "source": [
    "# Loading data from MongoDB\n",
    "\n",
    "\n",
    "df = pd.read_csv(r\"C:\\Users\\modze\\PycharmProjects\\TwitterAnalysis\\files\\training.1600000.processed.noemoticon.csv\",encoding = \"ISO-8859-1\")\n",
    "processed_df = pd.DataFrame()\n",
    "df.columns = [\"label\", \"time\", \"date\", \"query\", \"username\", \"text\"]\n",
    "\n",
    "# Preparing dataset\n",
    "df.info()"
   ],
   "metadata": {
    "collapsed": false,
    "ExecuteTime": {
     "end_time": "2023-05-31T14:35:50.579926Z",
     "start_time": "2023-05-31T14:35:41.773635Z"
    }
   }
  },
  {
   "cell_type": "code",
   "execution_count": 4,
   "outputs": [
    {
     "data": {
      "text/plain": "   label        time                          date     query       username  \\\n0      0  1467810672  Mon Apr 06 22:19:49 PDT 2009  NO_QUERY  scotthamilton   \n1      0  1467810917  Mon Apr 06 22:19:53 PDT 2009  NO_QUERY       mattycus   \n2      0  1467811184  Mon Apr 06 22:19:57 PDT 2009  NO_QUERY        ElleCTF   \n3      0  1467811193  Mon Apr 06 22:19:57 PDT 2009  NO_QUERY         Karoli   \n4      0  1467811372  Mon Apr 06 22:20:00 PDT 2009  NO_QUERY       joy_wolf   \n\n                                                text  \n0  is upset that he can't update his Facebook by ...  \n1  @Kenichan I dived many times for the ball. Man...  \n2    my whole body feels itchy and like its on fire   \n3  @nationwideclass no, it's not behaving at all....  \n4                      @Kwesidei not the whole crew   ",
      "text/html": "<div>\n<style scoped>\n    .dataframe tbody tr th:only-of-type {\n        vertical-align: middle;\n    }\n\n    .dataframe tbody tr th {\n        vertical-align: top;\n    }\n\n    .dataframe thead th {\n        text-align: right;\n    }\n</style>\n<table border=\"1\" class=\"dataframe\">\n  <thead>\n    <tr style=\"text-align: right;\">\n      <th></th>\n      <th>label</th>\n      <th>time</th>\n      <th>date</th>\n      <th>query</th>\n      <th>username</th>\n      <th>text</th>\n    </tr>\n  </thead>\n  <tbody>\n    <tr>\n      <th>0</th>\n      <td>0</td>\n      <td>1467810672</td>\n      <td>Mon Apr 06 22:19:49 PDT 2009</td>\n      <td>NO_QUERY</td>\n      <td>scotthamilton</td>\n      <td>is upset that he can't update his Facebook by ...</td>\n    </tr>\n    <tr>\n      <th>1</th>\n      <td>0</td>\n      <td>1467810917</td>\n      <td>Mon Apr 06 22:19:53 PDT 2009</td>\n      <td>NO_QUERY</td>\n      <td>mattycus</td>\n      <td>@Kenichan I dived many times for the ball. Man...</td>\n    </tr>\n    <tr>\n      <th>2</th>\n      <td>0</td>\n      <td>1467811184</td>\n      <td>Mon Apr 06 22:19:57 PDT 2009</td>\n      <td>NO_QUERY</td>\n      <td>ElleCTF</td>\n      <td>my whole body feels itchy and like its on fire</td>\n    </tr>\n    <tr>\n      <th>3</th>\n      <td>0</td>\n      <td>1467811193</td>\n      <td>Mon Apr 06 22:19:57 PDT 2009</td>\n      <td>NO_QUERY</td>\n      <td>Karoli</td>\n      <td>@nationwideclass no, it's not behaving at all....</td>\n    </tr>\n    <tr>\n      <th>4</th>\n      <td>0</td>\n      <td>1467811372</td>\n      <td>Mon Apr 06 22:20:00 PDT 2009</td>\n      <td>NO_QUERY</td>\n      <td>joy_wolf</td>\n      <td>@Kwesidei not the whole crew</td>\n    </tr>\n  </tbody>\n</table>\n</div>"
     },
     "execution_count": 4,
     "metadata": {},
     "output_type": "execute_result"
    }
   ],
   "source": [
    "df.head()"
   ],
   "metadata": {
    "collapsed": false,
    "ExecuteTime": {
     "end_time": "2023-05-31T14:35:50.658076400Z",
     "start_time": "2023-05-31T14:35:50.579926Z"
    }
   }
  },
  {
   "cell_type": "markdown",
   "source": [
    "# Step 2\n",
    "## Preprocess text data"
   ],
   "metadata": {
    "collapsed": false
   }
  },
  {
   "cell_type": "code",
   "execution_count": null,
   "outputs": [],
   "source": [
    "tokenizer = TweetTokenizer()\n",
    "lemmatizer = WordNetLemmatizer()\n",
    "\n",
    "\n",
    "def preprocess(text, emojis=True):\n",
    "    if emojis:\n",
    "        text = emoji.demojize(text, delimiters=(\"\", \"\"))\n",
    "    text = re.sub(CLEANING_REGEX, ' ', str(text).lower()).strip()\n",
    "    text = re.sub(r'(\\w)\\1{2,}', r'\\1', text)\n",
    "    tokens = tokenizer.tokenize(text)\n",
    "\n",
    "\n",
    "    for i in range(len(tokens)):\n",
    "        if tokens[i] in ACRONYMS:\n",
    "            expanded_tokens = ACRONYMS[tokens[i]].split()\n",
    "            tokens[i:i + 1] = expanded_tokens\n",
    "\n",
    "    tokens = [token for token in tokens if token not in STOPWORDS if token if len(token) > 1]\n",
    "    tokens = [lemmatizer.lemmatize(token) for token in tokens]\n",
    "    return tokens\n",
    "\n",
    "\n",
    "df[\"preprocessed_text\"] = df[\"text\"].apply(lambda text: preprocess(text))\n",
    "df[\"preprocessed_text\"].dropna()\n",
    "df[\"token_count\"] = df[\"preprocessed_text\"].apply(lambda x: len(x))\n",
    "df.drop(df[df[\"token_count\"] < 2].index, inplace=True)"
   ],
   "metadata": {
    "collapsed": false,
    "is_executing": true,
    "ExecuteTime": {
     "start_time": "2023-05-22T22:16:13.969022800Z"
    }
   }
  },
  {
   "cell_type": "code",
   "execution_count": 25,
   "outputs": [
    {
     "name": "stdout",
     "output_type": "stream",
     "text": [
      "0          upset update facebook texting might cry result...\n",
      "1            dived many time ball managed save rest go bound\n",
      "2                            whole body feel itchy like fire\n",
      "3                                           behaving mad see\n",
      "4                                                 whole crew\n",
      "                                 ...                        \n",
      "1599993    yeah work better waiting end wonder time keep ...\n",
      "1599994                        woke school best feeling ever\n",
      "1599995              thewdb com cool hear old walt interview\n",
      "1599996                       ready mojo makeover ask detail\n",
      "1599997     happy th birthday boo al time tupac amaru shakur\n",
      "Name: untokenized_text, Length: 1536716, dtype: object\n"
     ]
    }
   ],
   "source": [
    "\n",
    "# Function to untokenize the text\n",
    "def untokenize_text(tokens):\n",
    "    return ' '.join(tokens)\n",
    "\n",
    "\n",
    "# Apply the untokenize function to the 'text' column\n",
    "df['untokenized_text'] = df['preprocessed_text'].apply(untokenize_text)\n",
    "\n",
    "# Print the DataFrame\n",
    "print(df['untokenized_text'])\n"
   ],
   "metadata": {
    "collapsed": false,
    "ExecuteTime": {
     "end_time": "2023-05-22T22:11:54.575714400Z",
     "start_time": "2023-05-22T22:11:53.441360800Z"
    }
   }
  },
  {
   "cell_type": "code",
   "execution_count": 26,
   "outputs": [
    {
     "data": {
      "text/plain": "                                                      text  \\\n0        is upset that he can't update his Facebook by ...   \n1        @Kenichan I dived many times for the ball. Man...   \n2          my whole body feels itchy and like its on fire    \n3        @nationwideclass no, it's not behaving at all....   \n4                            @Kwesidei not the whole crew    \n...                                                    ...   \n1599993  @Cliff_Forster Yeah, that does work better tha...   \n1599994  Just woke up. Having no school is the best fee...   \n1599995  TheWDB.com - Very cool to hear old Walt interv...   \n1599996  Are you ready for your MoJo Makeover? Ask me f...   \n1599997  Happy 38th Birthday to my boo of alll time!!! ...   \n\n                                         preprocessed_text  \n0        [upset, update, facebook, texting, might, cry,...  \n1        [dived, many, time, ball, managed, save, rest,...  \n2                   [whole, body, feel, itchy, like, fire]  \n3                                     [behaving, mad, see]  \n4                                            [whole, crew]  \n...                                                    ...  \n1599993  [yeah, work, better, waiting, end, wonder, tim...  \n1599994                [woke, school, best, feeling, ever]  \n1599995    [thewdb, com, cool, hear, old, walt, interview]  \n1599996               [ready, mojo, makeover, ask, detail]  \n1599997  [happy, th, birthday, boo, al, time, tupac, am...  \n\n[1536716 rows x 2 columns]",
      "text/html": "<div>\n<style scoped>\n    .dataframe tbody tr th:only-of-type {\n        vertical-align: middle;\n    }\n\n    .dataframe tbody tr th {\n        vertical-align: top;\n    }\n\n    .dataframe thead th {\n        text-align: right;\n    }\n</style>\n<table border=\"1\" class=\"dataframe\">\n  <thead>\n    <tr style=\"text-align: right;\">\n      <th></th>\n      <th>text</th>\n      <th>preprocessed_text</th>\n    </tr>\n  </thead>\n  <tbody>\n    <tr>\n      <th>0</th>\n      <td>is upset that he can't update his Facebook by ...</td>\n      <td>[upset, update, facebook, texting, might, cry,...</td>\n    </tr>\n    <tr>\n      <th>1</th>\n      <td>@Kenichan I dived many times for the ball. Man...</td>\n      <td>[dived, many, time, ball, managed, save, rest,...</td>\n    </tr>\n    <tr>\n      <th>2</th>\n      <td>my whole body feels itchy and like its on fire</td>\n      <td>[whole, body, feel, itchy, like, fire]</td>\n    </tr>\n    <tr>\n      <th>3</th>\n      <td>@nationwideclass no, it's not behaving at all....</td>\n      <td>[behaving, mad, see]</td>\n    </tr>\n    <tr>\n      <th>4</th>\n      <td>@Kwesidei not the whole crew</td>\n      <td>[whole, crew]</td>\n    </tr>\n    <tr>\n      <th>...</th>\n      <td>...</td>\n      <td>...</td>\n    </tr>\n    <tr>\n      <th>1599993</th>\n      <td>@Cliff_Forster Yeah, that does work better tha...</td>\n      <td>[yeah, work, better, waiting, end, wonder, tim...</td>\n    </tr>\n    <tr>\n      <th>1599994</th>\n      <td>Just woke up. Having no school is the best fee...</td>\n      <td>[woke, school, best, feeling, ever]</td>\n    </tr>\n    <tr>\n      <th>1599995</th>\n      <td>TheWDB.com - Very cool to hear old Walt interv...</td>\n      <td>[thewdb, com, cool, hear, old, walt, interview]</td>\n    </tr>\n    <tr>\n      <th>1599996</th>\n      <td>Are you ready for your MoJo Makeover? Ask me f...</td>\n      <td>[ready, mojo, makeover, ask, detail]</td>\n    </tr>\n    <tr>\n      <th>1599997</th>\n      <td>Happy 38th Birthday to my boo of alll time!!! ...</td>\n      <td>[happy, th, birthday, boo, al, time, tupac, am...</td>\n    </tr>\n  </tbody>\n</table>\n<p>1536716 rows × 2 columns</p>\n</div>"
     },
     "execution_count": 26,
     "metadata": {},
     "output_type": "execute_result"
    }
   ],
   "source": [
    "df[[\"text\", \"preprocessed_text\"]]"
   ],
   "metadata": {
    "collapsed": false,
    "ExecuteTime": {
     "end_time": "2023-05-22T22:11:59.915588300Z",
     "start_time": "2023-05-22T22:11:58.711037200Z"
    }
   }
  },
  {
   "cell_type": "code",
   "execution_count": null,
   "outputs": [],
   "source": [],
   "metadata": {
    "collapsed": false
   }
  },
  {
   "cell_type": "code",
   "execution_count": 27,
   "outputs": [
    {
     "name": "stdout",
     "output_type": "stream",
     "text": [
      "222504\n"
     ]
    }
   ],
   "source": [
    "from collections import Counter\n",
    "\n",
    "token_counts = Counter()\n",
    "\n",
    "for tokens in df['preprocessed_text']:\n",
    "    token_counts.update(tokens)\n",
    "sum = 0\n",
    "for token, count in token_counts.items():\n",
    "    sum += 1\n",
    "print(sum)"
   ],
   "metadata": {
    "collapsed": false,
    "ExecuteTime": {
     "end_time": "2023-05-22T22:12:07.749611600Z",
     "start_time": "2023-05-22T22:12:04.508248600Z"
    }
   }
  },
  {
   "cell_type": "markdown",
   "source": [
    "# Step 3\n",
    "## Analyze data"
   ],
   "metadata": {
    "collapsed": false
   }
  },
  {
   "cell_type": "code",
   "execution_count": 28,
   "outputs": [
    {
     "name": "stdout",
     "output_type": "stream",
     "text": [
      "significant    165643\n",
      "day            111960\n",
      "good            91334\n",
      "get             86364\n",
      "weekend         83423\n",
      "like            79686\n",
      "go              78883\n",
      "today           73264\n",
      "quot            71763\n",
      "love            69684\n",
      "work            68049\n",
      "time            65899\n",
      "going           64554\n",
      "got             61676\n",
      "one             57651\n",
      "back            57507\n",
      "laugh           57194\n",
      "know            56186\n",
      "loud            55744\n",
      "im              50598\n",
      "really          50187\n",
      "amp             48660\n",
      "want            48353\n",
      "see             46424\n",
      "night           45855\n",
      "new             43942\n",
      "think           43779\n",
      "still           43498\n",
      "overheard       43283\n",
      "well            42815\n",
      "need            40875\n",
      "home            40775\n",
      "reply           40053\n",
      "thanks          37855\n",
      "much            37352\n",
      "miss            36689\n",
      "last            35936\n",
      "feel            35445\n",
      "morning         35126\n",
      "make            34742\n",
      "hope            34674\n",
      "tomorrow        34402\n",
      "twitter         33797\n",
      "great           33647\n",
      "haha            31491\n",
      "way             31034\n",
      "wish            30071\n",
      "sad             29351\n",
      "fun             28739\n",
      "come            28646\n",
      "Name: preprocessed_text, dtype: int64\n"
     ]
    }
   ],
   "source": [
    "#Analiza danych\n",
    "word_counts = df['preprocessed_text'].explode().value_counts().sort_values(ascending=False)\n",
    "most_common_words = word_counts.head(50)  # Przykład: wybierz 5 najczęściej występujących słów\n",
    "print(most_common_words)"
   ],
   "metadata": {
    "collapsed": false,
    "ExecuteTime": {
     "end_time": "2023-05-22T22:12:15.907475500Z",
     "start_time": "2023-05-22T22:12:12.148529500Z"
    }
   }
  },
  {
   "cell_type": "code",
   "execution_count": 19,
   "outputs": [],
   "source": [
    "# create world cloud based on sentiment and topics\n",
    "\n",
    "# from wordcloud import WordCloud\n",
    "# import matplotlib.pyplot as plt\n",
    "# from nltk.sentiment import SentimentIntensityAnalyzer\n",
    "#\n",
    "# # Create a dictionary to store word frequencies for each topic and sentiment\n",
    "# topic_sentiment_word_freq = {}\n",
    "#\n",
    "# # Initialize Vader SentimentIntensityAnalyzer\n",
    "# sia = SentimentIntensityAnalyzer()\n",
    "#\n",
    "# # Iterate over rows in the DataFrame\n",
    "# for index, row in df.iterrows():\n",
    "#     topic = row['topic']\n",
    "#     text = row['untokenized_text']\n",
    "#\n",
    "#     # Calculate sentiment score using Vader\n",
    "#     sentiment_scores = sia.polarity_scores(text)\n",
    "#\n",
    "#     # Determine sentiment label based on the compound score\n",
    "#     if sentiment_scores['compound'] >= 0.05:\n",
    "#         sentiment_label = 'Positive'\n",
    "#     elif sentiment_scores['compound'] <= -0.05:\n",
    "#         sentiment_label = 'Negative'\n",
    "#     else:\n",
    "#         sentiment_label = 'Neutral'\n",
    "#\n",
    "#     # Calculate word frequencies for the current topic and sentiment\n",
    "#     if topic not in topic_sentiment_word_freq:\n",
    "#         topic_sentiment_word_freq[topic] = {}\n",
    "#     if sentiment_label not in topic_sentiment_word_freq[topic]:\n",
    "#         topic_sentiment_word_freq[topic][sentiment_label] = {}\n",
    "#\n",
    "#     # Process the preprocessed text and update word frequencies\n",
    "#     for word in text.split():\n",
    "#         if word in topic_sentiment_word_freq[topic][sentiment_label]:\n",
    "#             topic_sentiment_word_freq[topic][sentiment_label][word] += 1\n",
    "#         else:\n",
    "#             topic_sentiment_word_freq[topic][sentiment_label][word] = 1\n",
    "#\n",
    "# # Generate WordCloud for each topic and sentiment\n",
    "# for topic, sentiment_word_freq in topic_sentiment_word_freq.items():\n",
    "#     for sentiment, word_freq in sentiment_word_freq.items():\n",
    "#         wordcloud = WordCloud(width=800, height=400, background_color=\"white\").generate_from_frequencies(word_freq)\n",
    "#\n",
    "#         # Plot the WordCloud for the current topic and sentiment\n",
    "#         plt.figure(figsize=(10, 6))\n",
    "#         plt.imshow(wordcloud, interpolation=\"bilinear\")\n",
    "#         plt.axis(\"off\")\n",
    "#         plt.title(f\"Word Cloud for {topic} ({sentiment} Sentiment)\")\n",
    "#         plt.show()"
   ],
   "metadata": {
    "collapsed": false,
    "ExecuteTime": {
     "end_time": "2023-05-22T20:39:04.254379700Z",
     "start_time": "2023-05-22T20:39:03.114971900Z"
    }
   }
  },
  {
   "cell_type": "code",
   "execution_count": 9,
   "outputs": [
    {
     "name": "stdout",
     "output_type": "stream",
     "text": [
      "0         thought tipoff time wrong caitlin clark logo k...\n",
      "1         want say louisville hot think great coach cait...\n",
      "2         remember deep pandemic time weekend latching o...\n",
      "4         sure want former concordia prof ex globe gazet...\n",
      "5                    walmart lowes food harris teeter maybe\n",
      "                                ...                        \n",
      "142653    ok significant doom demon heretical dungeon dr...\n",
      "142654    good something get hope botw favorite game eve...\n",
      "142655    botw didnt blow away running like shit would b...\n",
      "142656                              gerudo valley link botw\n",
      "142657    seriousness since botw already unlocks invento...\n",
      "Name: untokenized_text, Length: 86416, dtype: object\n"
     ]
    }
   ],
   "source": [],
   "metadata": {
    "collapsed": false,
    "ExecuteTime": {
     "end_time": "2023-05-22T20:20:03.170127500Z",
     "start_time": "2023-05-22T20:20:02.904657300Z"
    }
   }
  },
  {
   "cell_type": "code",
   "execution_count": null,
   "outputs": [],
   "source": [
    "import pandas as pd\n",
    "from nltk.sentiment import SentimentIntensityAnalyzer\n",
    "from wordcloud import WordCloud\n",
    "import matplotlib.pyplot as plt\n",
    "\n",
    "# Create an instance of SentimentIntensityAnalyzer\n",
    "sid = SentimentIntensityAnalyzer()\n",
    "\n",
    "# Initialize empty lists for positive and negative words\n",
    "positive_words = []\n",
    "negative_words = []\n",
    "\n",
    "# Iterate over preprocessed texts and classify sentiment using VADER\n",
    "for text in df['untokenized_text']:\n",
    "    sentiment_scores = sid.polarity_scores(text)\n",
    "    if sentiment_scores['compound'] >= 0.05:\n",
    "        positive_words.extend(text.split())\n",
    "    elif sentiment_scores['compound'] <= -0.05:\n",
    "        negative_words.extend(text.split())\n",
    "\n",
    "# Create word clouds for positive and negative words\n",
    "positive_wordcloud = WordCloud(width=800, height=400, background_color='white').generate(' '.join(positive_words))\n",
    "negative_wordcloud = WordCloud(width=800, height=400, background_color='white').generate(' '.join(negative_words))\n",
    "\n",
    "# Plot and display the word clouds\n",
    "plt.figure(figsize=(12, 6))\n",
    "plt.subplot(1, 2, 1)\n",
    "plt.imshow(positive_wordcloud, interpolation='bilinear')\n",
    "plt.title('Positive Words')\n",
    "plt.axis('off')\n",
    "\n",
    "plt.subplot(1, 2, 2)\n",
    "plt.imshow(negative_wordcloud, interpolation='bilinear')\n",
    "plt.title('Negative Words')\n",
    "plt.axis('off')\n",
    "\n",
    "plt.tight_layout()\n",
    "plt.show()"
   ],
   "metadata": {
    "collapsed": false,
    "is_executing": true,
    "ExecuteTime": {
     "start_time": "2023-05-22T20:53:59.390509200Z"
    }
   }
  },
  {
   "cell_type": "code",
   "execution_count": 42,
   "outputs": [
    {
     "data": {
      "text/plain": "<Figure size 1000x600 with 1 Axes>",
      "image/png": "[encoded data removed]"
     },
     "metadata": {},
     "output_type": "display_data"
    }
   ],
   "source": [
    "import pandas as pd\n",
    "import seaborn as sns\n",
    "import matplotlib.pyplot as plt\n",
    "\n",
    "\n",
    "# Example DataFrame with tokenized text column\n",
    "\n",
    "# Function to calculate token frequencies\n",
    "def calculate_token_frequencies(tokens):\n",
    "    token_freq = {}\n",
    "    for sentence_tokens in tokens:\n",
    "        for token in sentence_tokens:\n",
    "            if token in token_freq:\n",
    "                token_freq[token] += 1\n",
    "            else:\n",
    "                token_freq[token] = 1\n",
    "    return token_freq\n",
    "\n",
    "\n",
    "# Apply the calculate_token_frequencies function to the 'tokens' column\n",
    "token_frequencies = calculate_token_frequencies(df[\"preprocessed_text\"])\n",
    "\n",
    "# Convert token frequencies to DataFrame\n",
    "token_freq_df = pd.DataFrame.from_dict(token_frequencies, orient='index', columns=['frequency'])\n",
    "token_freq_df = token_freq_df.reset_index().rename(columns={'index': 'token'})\n",
    "\n",
    "# Sort DataFrame by token frequency in descending order\n",
    "token_freq_df = token_freq_df.sort_values('frequency', ascending=False)\n",
    "\n",
    "# Slice the DataFrame to include only the top 100 token frequencies\n",
    "token_freq_df = token_freq_df.head(100)\n",
    "\n",
    "# Plot the token frequencies\n",
    "sns.set(style=\"whitegrid\")\n",
    "plt.figure(figsize=(10, 6))\n",
    "ax = sns.barplot(x='token', y='frequency', data=token_freq_df)\n",
    "plt.title('Top 100 Token Frequencies')\n",
    "plt.xlabel('Frequency')\n",
    "plt.ylabel('Token')\n",
    "plt.xticks(rotation=90, fontsize=8)  # Rotate tick labels by 90 degrees\n",
    "plt.yticks(fontsize=8)\n",
    "# Replace y-axis labels with token counts\n",
    "\n",
    "plt.show()\n"
   ],
   "metadata": {
    "collapsed": false,
    "ExecuteTime": {
     "end_time": "2023-05-22T20:50:32.020094900Z",
     "start_time": "2023-05-22T20:50:29.497471200Z"
    }
   }
  },
  {
   "cell_type": "code",
   "execution_count": null,
   "outputs": [],
   "source": [
    "import nltk\n",
    "from nltk.corpus import stopwords\n",
    "from nltk.tokenize import word_tokenize\n",
    "from nltk.probability import FreqDist\n",
    "\n",
    "# Pobieranie zbioru stop words (słów pomijanych przy analizie)\n",
    "nltk.download('stopwords')\n",
    "\n",
    "# Pobieranie narzędzi tokenizacji\n",
    "nltk.download('punkt')\n",
    "\n",
    "# Przykładowy tekst do analizy\n",
    "text = \"This is a sample text. It contains some words that we want to analyze.\"\n",
    "\n",
    "# Tokenizacja tekstu na pojedyncze słowa\n",
    "tokens = word_tokenize(text)\n",
    "\n",
    "# Usunięcie stop words (słów pomijanych przy analizie)\n",
    "stop_words = set(stopwords.words('english'))\n",
    "filtered_tokens = [word for word in tokens if word.lower() not in stop_words]\n",
    "\n",
    "# Obliczenie częstości występowania słów\n",
    "freq_dist = FreqDist(filtered_tokens)\n",
    "\n",
    "# Wyświetlenie 10 najczęściej występujących słów\n",
    "top_words = freq_dist.most_common(10)\n",
    "for word, frequency in top_words:\n",
    "    print(f\"{word}: {frequency}\")\n"
   ],
   "metadata": {
    "collapsed": false
   }
  }
 ],
 "metadata": {
  "kernelspec": {
   "display_name": "Python 3",
   "language": "python",
   "name": "python3"
  },
  "language_info": {
   "codemirror_mode": {
    "name": "ipython",
    "version": 2
   },
   "file_extension": ".py",
   "mimetype": "text/x-python",
   "name": "python",
   "nbconvert_exporter": "python",
   "pygments_lexer": "ipython2",
   "version": "2.7.6"
  }
 },
 "nbformat": 4,
 "nbformat_minor": 0
}
